{
 "cells": [
  {
   "cell_type": "code",
   "execution_count": 1,
   "id": "f1c6c028",
   "metadata": {},
   "outputs": [],
   "source": [
    "import numpy as np"
   ]
  },
  {
   "cell_type": "code",
   "execution_count": 10,
   "id": "aff8f050",
   "metadata": {},
   "outputs": [
    {
     "data": {
      "text/plain": [
       "array([[[False, False, False, False, False, False, False, False],\n",
       "        [False, False, False, False, False, False, False, False],\n",
       "        [False, False, False, False, False, False, False, False],\n",
       "        [False, False, False, False, False, False, False, False],\n",
       "        [False, False, False, False, False, False, False, False],\n",
       "        [False, False, False, False, False, False, False, False],\n",
       "        [False, False, False, False, False, False, False, False],\n",
       "        [False, False, False, False, False, False, False, False]],\n",
       "\n",
       "       [[False, False, False, False, False, False, False, False],\n",
       "        [False, False, False, False, False, False, False, False],\n",
       "        [False, False, False, False, False, False, False, False],\n",
       "        [False, False, False, False, False, False, False, False],\n",
       "        [False, False, False, False, False, False, False, False],\n",
       "        [False, False, False, False, False, False, False, False],\n",
       "        [False, False, False, False, False, False, False, False],\n",
       "        [False, False, False, False, False, False, False, False]]])"
      ]
     },
     "execution_count": 10,
     "metadata": {},
     "output_type": "execute_result"
    }
   ],
   "source": [
    "np.full((2, 8, 8), False)"
   ]
  },
  {
   "cell_type": "code",
   "execution_count": 5,
   "id": "19edc879",
   "metadata": {},
   "outputs": [
    {
     "data": {
      "text/plain": [
       "(3,)"
      ]
     },
     "execution_count": 5,
     "metadata": {},
     "output_type": "execute_result"
    }
   ],
   "source": [
    "np.array([2,3,9]).shape"
   ]
  },
  {
   "cell_type": "code",
   "execution_count": 6,
   "id": "ad995a18",
   "metadata": {},
   "outputs": [
    {
     "data": {
      "text/plain": [
       "array([1, 2, 3])"
      ]
     },
     "execution_count": 6,
     "metadata": {},
     "output_type": "execute_result"
    }
   ],
   "source": [
    "test = np.array([1,2,3])\n",
    "test"
   ]
  },
  {
   "cell_type": "code",
   "execution_count": 7,
   "id": "0ff896d5",
   "metadata": {},
   "outputs": [],
   "source": [
    "def foo(arr):\n",
    "    return np.array([arr+1, arr+2])"
   ]
  },
  {
   "cell_type": "code",
   "execution_count": 8,
   "id": "a0495007",
   "metadata": {},
   "outputs": [
    {
     "data": {
      "text/plain": [
       "array([[2, 3, 4],\n",
       "       [3, 4, 5]])"
      ]
     },
     "execution_count": 8,
     "metadata": {},
     "output_type": "execute_result"
    }
   ],
   "source": [
    "foo(test)"
   ]
  },
  {
   "cell_type": "code",
   "execution_count": 9,
   "id": "27714105",
   "metadata": {},
   "outputs": [
    {
     "data": {
      "text/plain": [
       "array([1, 2, 3])"
      ]
     },
     "execution_count": 9,
     "metadata": {},
     "output_type": "execute_result"
    }
   ],
   "source": [
    "test"
   ]
  },
  {
   "cell_type": "code",
   "execution_count": 11,
   "id": "e4ff2ea0",
   "metadata": {},
   "outputs": [],
   "source": [
    "class GameState:\n",
    "    ## walls is (2,8,8) vector where first 8x8 is horizontal walls and second 8x8 is vertical walls\n",
    "    ## agents is (2, 3) vector\n",
    "        ## agents[0] is white\n",
    "        ## angets[1] is black\n",
    "        ## agents[0][0] is white x coord (row)\n",
    "        ## agents[0][1] is white y coord (col)\n",
    "        ## agents[0][2] is walls white has left\n",
    "        ## and vice versa\n",
    "    def __init__(self, walls, agents):\n",
    "        self.walls = walls\n",
    "        self.agents = agents\n",
    "\n",
    "    ## returns np.array of the possible game states reachable\n",
    "    ## with a single move from this gamestate\n",
    "    def possibleStates(self):\n",
    "        return np.array([])"
   ]
  },
  {
   "cell_type": "code",
   "execution_count": 12,
   "id": "d7aee285",
   "metadata": {},
   "outputs": [],
   "source": [
    "state = GameState(np.full((2, 8, 8), False), np.array([[4, 0, 10], [4, 8, 10]]))"
   ]
  },
  {
   "cell_type": "code",
   "execution_count": 13,
   "id": "ed353e1f",
   "metadata": {},
   "outputs": [
    {
     "data": {
      "text/plain": [
       "array([[[False, False, False, False, False, False, False, False],\n",
       "        [False, False, False, False, False, False, False, False],\n",
       "        [False, False, False, False, False, False, False, False],\n",
       "        [False, False, False, False, False, False, False, False],\n",
       "        [False, False, False, False, False, False, False, False],\n",
       "        [False, False, False, False, False, False, False, False],\n",
       "        [False, False, False, False, False, False, False, False],\n",
       "        [False, False, False, False, False, False, False, False]],\n",
       "\n",
       "       [[False, False, False, False, False, False, False, False],\n",
       "        [False, False, False, False, False, False, False, False],\n",
       "        [False, False, False, False, False, False, False, False],\n",
       "        [False, False, False, False, False, False, False, False],\n",
       "        [False, False, False, False, False, False, False, False],\n",
       "        [False, False, False, False, False, False, False, False],\n",
       "        [False, False, False, False, False, False, False, False],\n",
       "        [False, False, False, False, False, False, False, False]]])"
      ]
     },
     "execution_count": 13,
     "metadata": {},
     "output_type": "execute_result"
    }
   ],
   "source": [
    "state.walls"
   ]
  },
  {
   "cell_type": "code",
   "execution_count": 14,
   "id": "f8d42c20",
   "metadata": {},
   "outputs": [],
   "source": [
    "class box:\n",
    "    wall = '\\033[41m  \\033[0m'\n",
    "    wallbg = '\\033[43m  \\033[0m'\n",
    "    possible = '\\033[44m  \\033[0m'\n",
    "    bg = '\\033[46m  \\033[0m'\n",
    "    black = '\\033[42m  \\033[0m'\n",
    "    white = '\\033[47m  \\033[0m'"
   ]
  },
  {
   "cell_type": "code",
   "execution_count": 18,
   "id": "fc4b0aaa",
   "metadata": {},
   "outputs": [],
   "source": [
    "box = ['\\033[46m  \\033[0m', '\\033[41m  \\033[0m', '\\033[43m  \\033[0m', '\\033[44m  \\033[0m', '\\033[42m  \\033[0m', '\\033[47m  \\033[0m']\n",
    "\n",
    "bg = 0\n",
    "wall = 1\n",
    "wallbg = 2\n",
    "possible = 3\n",
    "black = 4\n",
    "white = 5"
   ]
  },
  {
   "cell_type": "code",
   "execution_count": 17,
   "id": "b5f0f9ea",
   "metadata": {},
   "outputs": [
    {
     "data": {
      "text/plain": [
       "36"
      ]
     },
     "execution_count": 17,
     "metadata": {},
     "output_type": "execute_result"
    }
   ],
   "source": [
    "\n",
    "1 * (3+1) * 9"
   ]
  },
  {
   "cell_type": "code",
   "execution_count": 22,
   "id": "4b2da977",
   "metadata": {},
   "outputs": [],
   "source": [
    "b = np.zeros((36, 36), dtype=int)"
   ]
  },
  {
   "cell_type": "code",
   "execution_count": 23,
   "id": "0af23b97",
   "metadata": {},
   "outputs": [],
   "source": [
    "# wall length is 7\n",
    "# vertical wall goes 7 down\n",
    "for row, arrRow in enumerate(state.walls[0]):\n",
    "    for col, arrCol in enumerate(arrRow):\n",
    "        if arrCol:\n",
    "            for i in range(7):\n",
    "                pixels[row+i, col] = wall\n",
    "                \n",
    "# horizontal wall goes 7 right\n",
    "for row, arrRow in enumerate(state.walls[1]):\n",
    "    for col, arrCol in enumerate(arrRow):\n",
    "        if arrCol:\n",
    "            for i in range(7):\n",
    "                pixels[row, col+i] = wall"
   ]
  },
  {
   "cell_type": "code",
   "execution_count": 24,
   "id": "e7a93b14",
   "metadata": {},
   "outputs": [],
   "source": [
    "import re"
   ]
  },
  {
   "cell_type": "code",
   "execution_count": 28,
   "id": "ec5b7a54",
   "metadata": {},
   "outputs": [
    {
     "data": {
      "text/plain": [
       "False"
      ]
     },
     "execution_count": 28,
     "metadata": {},
     "output_type": "execute_result"
    }
   ],
   "source": [
    "not re.match(r'[vhm][0-9][0-9]', 'v23')"
   ]
  },
  {
   "cell_type": "code",
   "execution_count": 29,
   "id": "b76a5d72",
   "metadata": {},
   "outputs": [
    {
     "data": {
      "text/plain": [
       "True"
      ]
     },
     "execution_count": 29,
     "metadata": {},
     "output_type": "execute_result"
    }
   ],
   "source": [
    "not re.match(r'[vhm][0-9][0-9]', 'a23')"
   ]
  },
  {
   "cell_type": "code",
   "execution_count": 30,
   "id": "b2cc576d",
   "metadata": {},
   "outputs": [
    {
     "data": {
      "text/plain": [
       "array([ True,  True])"
      ]
     },
     "execution_count": 30,
     "metadata": {},
     "output_type": "execute_result"
    }
   ],
   "source": [
    "np.array([1,3]) == np.array([1,3])"
   ]
  },
  {
   "cell_type": "code",
   "execution_count": 32,
   "id": "dba27651",
   "metadata": {},
   "outputs": [
    {
     "data": {
      "text/plain": [
       "True"
      ]
     },
     "execution_count": 32,
     "metadata": {},
     "output_type": "execute_result"
    }
   ],
   "source": [
    "np.array_equal(np.array([1,3]), np.array([1,3]))"
   ]
  },
  {
   "cell_type": "code",
   "execution_count": 33,
   "id": "520c74d7",
   "metadata": {},
   "outputs": [
    {
     "data": {
      "text/plain": [
       "False"
      ]
     },
     "execution_count": 33,
     "metadata": {},
     "output_type": "execute_result"
    }
   ],
   "source": [
    "np.array_equal(np.array([1,3]), np.array([1,2]))"
   ]
  },
  {
   "cell_type": "code",
   "execution_count": 34,
   "id": "7bca287d",
   "metadata": {},
   "outputs": [],
   "source": [
    "b = False"
   ]
  },
  {
   "cell_type": "code",
   "execution_count": 35,
   "id": "bd9ea4da",
   "metadata": {},
   "outputs": [],
   "source": [
    "arr = ['zero', 'one']"
   ]
  },
  {
   "cell_type": "code",
   "execution_count": 36,
   "id": "5ceece80",
   "metadata": {},
   "outputs": [
    {
     "data": {
      "text/plain": [
       "'zero'"
      ]
     },
     "execution_count": 36,
     "metadata": {},
     "output_type": "execute_result"
    }
   ],
   "source": [
    "arr[b]"
   ]
  },
  {
   "cell_type": "code",
   "execution_count": 37,
   "id": "55cfac7c",
   "metadata": {},
   "outputs": [
    {
     "data": {
      "text/plain": [
       "True"
      ]
     },
     "execution_count": 37,
     "metadata": {},
     "output_type": "execute_result"
    }
   ],
   "source": [
    "'0' == '0'"
   ]
  },
  {
   "cell_type": "code",
   "execution_count": 38,
   "id": "5752a5ea",
   "metadata": {},
   "outputs": [
    {
     "data": {
      "text/plain": [
       "False"
      ]
     },
     "execution_count": 38,
     "metadata": {},
     "output_type": "execute_result"
    }
   ],
   "source": [
    "'0' == 0"
   ]
  },
  {
   "cell_type": "code",
   "execution_count": 39,
   "id": "62906290",
   "metadata": {},
   "outputs": [
    {
     "data": {
      "text/plain": [
       "False"
      ]
     },
     "execution_count": 39,
     "metadata": {},
     "output_type": "execute_result"
    }
   ],
   "source": [
    "'0' == '1'"
   ]
  },
  {
   "cell_type": "code",
   "execution_count": 40,
   "id": "eb58f110",
   "metadata": {},
   "outputs": [],
   "source": [
    "if 0:\n",
    "    print(0)"
   ]
  },
  {
   "cell_type": "code",
   "execution_count": 41,
   "id": "2e63c5fd",
   "metadata": {},
   "outputs": [
    {
     "name": "stdout",
     "output_type": "stream",
     "text": [
      "0\n"
     ]
    }
   ],
   "source": [
    "if 1:\n",
    "    print(0)"
   ]
  },
  {
   "cell_type": "code",
   "execution_count": 1,
   "id": "789989cc",
   "metadata": {},
   "outputs": [
    {
     "ename": "NameError",
     "evalue": "name 'Dict' is not defined",
     "output_type": "error",
     "traceback": [
      "\u001b[0;31m---------------------------------------------------------------------------\u001b[0m",
      "\u001b[0;31mNameError\u001b[0m                                 Traceback (most recent call last)",
      "Input \u001b[0;32mIn [1]\u001b[0m, in \u001b[0;36m<cell line: 1>\u001b[0;34m()\u001b[0m\n\u001b[0;32m----> 1\u001b[0m node \u001b[38;5;241m=\u001b[39m \u001b[43mDict\u001b[49m()\n",
      "\u001b[0;31mNameError\u001b[0m: name 'Dict' is not defined"
     ]
    }
   ],
   "source": [
    "node = Dict()"
   ]
  },
  {
   "cell_type": "code",
   "execution_count": 2,
   "id": "32a5aab2",
   "metadata": {},
   "outputs": [],
   "source": [
    "node = dict()"
   ]
  },
  {
   "cell_type": "code",
   "execution_count": 3,
   "id": "55816516",
   "metadata": {},
   "outputs": [],
   "source": [
    "node['row'] = 4"
   ]
  },
  {
   "cell_type": "code",
   "execution_count": 4,
   "id": "ba038c96",
   "metadata": {},
   "outputs": [
    {
     "data": {
      "text/plain": [
       "{'row': 4}"
      ]
     },
     "execution_count": 4,
     "metadata": {},
     "output_type": "execute_result"
    }
   ],
   "source": [
    "node"
   ]
  },
  {
   "cell_type": "code",
   "execution_count": 5,
   "id": "4f637204",
   "metadata": {},
   "outputs": [
    {
     "ename": "AttributeError",
     "evalue": "'dict' object has no attribute 'row'",
     "output_type": "error",
     "traceback": [
      "\u001b[0;31m---------------------------------------------------------------------------\u001b[0m",
      "\u001b[0;31mAttributeError\u001b[0m                            Traceback (most recent call last)",
      "Input \u001b[0;32mIn [5]\u001b[0m, in \u001b[0;36m<cell line: 1>\u001b[0;34m()\u001b[0m\n\u001b[0;32m----> 1\u001b[0m \u001b[43mnode\u001b[49m\u001b[38;5;241;43m.\u001b[39;49m\u001b[43mrow\u001b[49m\n",
      "\u001b[0;31mAttributeError\u001b[0m: 'dict' object has no attribute 'row'"
     ]
    }
   ],
   "source": [
    "node.row"
   ]
  },
  {
   "cell_type": "code",
   "execution_count": 6,
   "id": "2845ce6c",
   "metadata": {},
   "outputs": [],
   "source": [
    "import numpy as np\n",
    "\n",
    "class GameState:\n",
    "    ## walls is (2,8,8) vector where first 8x8 is vertical walls and second 8x8 is horizontal walls\n",
    "    ## agents is (2, 3) vector\n",
    "        ## agents[0] is black\n",
    "        ## angets[1] is white\n",
    "        ## agents[1][0] is white y coord (row)\n",
    "        ## agents[1][1] is white x coord (col)\n",
    "        ## agents[1][2] is walls white has left\n",
    "        ## and vice versa\n",
    "    def __init__(self, walls, agents, turn = 1):\n",
    "        self.walls = walls\n",
    "        self.agents = agents\n",
    "        self.turn = turn ## is it white's turn?\n",
    "\n",
    "    ## returns np.array of the possible game states reachable\n",
    "    ## with a single move from this gamestate\n",
    "    def possibleStates(self):\n",
    "        return np.array([])\n",
    "\n",
    "    def __eq__(self, state):\n",
    "        return np.array_equal(self.walls, state.walls) and np.array_equal(self.agents, state.agents) and self.turn == state.turn\n",
    "\n",
    "    def copy(self):\n",
    "        return GameState(self.walls.copy(), self.agents.copy(), self.turn)\n",
    "\n",
    "    @classmethod\n",
    "    def newGame(state):\n",
    "        return GameState(np.full((2, 8, 8), False), np.array([[8, 4, 10], [0, 4, 10]]))\n",
    "\n",
    "    def passTurn(self):\n",
    "        self.turn = 1 - self.turn\n",
    "\n",
    "    ## some helpers for the pathfinding\n",
    "    ## start is np.array([row, col])\n",
    "    # def checkLeft(self, start):\n",
    "    def checkUp(self, row, col):\n",
    "            ## can't be at the top row\n",
    "            ## not blocked by wall above\n",
    "            ## not blocked by wall left above\n",
    "        return row != 0 and \\\n",
    "            (not self.walls[1, row - 1, col] if col < 8 else True) and \\\n",
    "            (not self.walls[1, row - 1, col - 1] if col > 0 else True)\n",
    "\n",
    "    def checkDown(self, row, col):\n",
    "            ## can't be at the top row\n",
    "            ## not blocked by wall right below\n",
    "            ## not blocked by wall left above\n",
    "        return row != 8 and \\\n",
    "            (not self.walls[1, row, col] if col < 8 else True) and \\\n",
    "            (not self.walls[1, row, col-1] if col > 0 else True)\n",
    "\n",
    "    def checkLeft(self, row, col):\n",
    "            ## can't be at the leftmost col\n",
    "            ## not blocked by wall right to left\n",
    "            ## not blocked by wall left above\n",
    "        return col != 0 and \\\n",
    "            (not self.walls[0, row, col - 1] if row < 8 else True) and \\\n",
    "            (not self.walls[0, row - 1, col - 1] if row > 0 else True)\n",
    "\n",
    "    def checkRight(self, row, col):\n",
    "            ## can't be at the rightmost col\n",
    "            ## not blocked by wall right to right\n",
    "            ## not blocked by wall right and above\n",
    "        return col != 8 and \\\n",
    "            (not self.walls[0, row, col] if row < 8 else True) and \\\n",
    "            (not self.walls[0, row - 1, col] if row > 0 else True)\n",
    "\n",
    "\n",
    "    ## returns a list of possible coordinates for the current player to move\n",
    "    def possibleMoves(self):\n",
    "        turn = self.turn\n",
    "        row = self.agents[turn, 0]\n",
    "        col = self.agents[turn, 1]\n",
    "        oppRow = self.agents[1-turn, 0]\n",
    "        oppCol = self.agents[1-turn, 1]\n",
    "        output = []\n",
    "        print(row, col)\n",
    "        print(oppRow, oppCol)\n",
    "\n",
    "        #### up ####\n",
    "        if  self.checkUp(row, col):\n",
    "            # blocked by opponent\n",
    "            if oppCol == col and oppRow == row - 1:\n",
    "                output += self.possibleMovesOver(0);\n",
    "            else:\n",
    "                state = self.copy()\n",
    "                state.agents[turn, 0] = row - 1\n",
    "                state.passTurn()\n",
    "                output.append(state)\n",
    "\n",
    "        #### down ####\n",
    "        if  self.checkDown(row, col):  \n",
    "            # blocked by opponent\n",
    "            if oppCol == col and oppRow == row + 1:\n",
    "                output += self.possibleMovesOver(1);\n",
    "            else:\n",
    "                state = self.copy()\n",
    "                state.agents[turn, 0] = row + 1\n",
    "                state.passTurn()\n",
    "                output.append(state)\n",
    "\n",
    "        #### left ####\n",
    "        if  self.checkLeft(row, col):     \n",
    "            # blocked by opponent\n",
    "            if oppCol == col - 1 and oppRow == row:\n",
    "                output += self.possibleMovesOver(2);\n",
    "            else:\n",
    "                state = self.copy()\n",
    "                state.agents[turn, 1] = col - 1\n",
    "                state.passTurn()\n",
    "                output.append(state)\n",
    "\n",
    "        #### right ####\n",
    "        if  self.checkRight(row, col): \\\n",
    "            # blocked by opponent\n",
    "            if oppCol == col + 1 and oppRow == row:\n",
    "                output += self.possibleMovesOver(3);\n",
    "            else:\n",
    "                state = self.copy()\n",
    "                state.agents[turn, 1] = col + 1\n",
    "                state.passTurn()\n",
    "                output.append(state)\n",
    "        return output;\n",
    "\n",
    "    ## helper function for possibeOver\n",
    "    ## in case the two players are right next to each other\n",
    "    ## and need to jump over one another\n",
    "    def possibleMovesOver(self, pos):\n",
    "        # pos 0 == up\n",
    "        # pos 1 == down\n",
    "        # pos 2 == left\n",
    "        # pos 3 == right\n",
    "        turn = 1 - self.turn\n",
    "        row = self.agents[turn, 0]\n",
    "        col = self.agents[turn, 1]\n",
    "        output = []\n",
    "\n",
    "        #### up ####\n",
    "        if  pos != 1 and self.checkUp(row, col):\n",
    "            state = self.copy()\n",
    "            state.agents[1 - turn, 0] = row - 1\n",
    "            state.agents[1 - turn, 1] = col\n",
    "            state.passTurn()\n",
    "            output.append(state)\n",
    "\n",
    "        #### down ####\n",
    "        if  pos != 0 and self.checkDown(row, col):  \n",
    "            state = self.copy()\n",
    "            state.agents[1 - turn, 0] = row + 1\n",
    "            state.agents[1 - turn, 1] = col\n",
    "            state.passTurn()\n",
    "            output.append(state)\n",
    "\n",
    "        #### left ####\n",
    "        if  pos != 3 and self.checkLeft(row, col):     \n",
    "            print(\"over left\")\n",
    "            state = self.copy()\n",
    "            state.agents[1 - turn, 0] = row\n",
    "            state.agents[1 - turn, 1] = col - 1\n",
    "            state.passTurn()\n",
    "            output.append(state)\n",
    "\n",
    "        #### right ####\n",
    "        if  pos != 2 and self.checkRight(row, col):\n",
    "            print(\"over right\")\n",
    "            state = self.copy()\n",
    "            state.agents[1 - turn, 0] = row\n",
    "            state.agents[1 - turn, 1] = col + 1\n",
    "            state.passTurn()\n",
    "            output.append(state)\n",
    "        return output;\n",
    "\n"
   ]
  },
  {
   "cell_type": "code",
   "execution_count": 7,
   "id": "d30db5c1",
   "metadata": {},
   "outputs": [
    {
     "data": {
      "text/plain": [
       "1"
      ]
     },
     "execution_count": 7,
     "metadata": {},
     "output_type": "execute_result"
    }
   ],
   "source": [
    "abs(3-2)"
   ]
  },
  {
   "cell_type": "code",
   "execution_count": 8,
   "id": "d5b06f49",
   "metadata": {},
   "outputs": [
    {
     "data": {
      "text/plain": [
       "1"
      ]
     },
     "execution_count": 8,
     "metadata": {},
     "output_type": "execute_result"
    }
   ],
   "source": [
    "abs(1-2)"
   ]
  },
  {
   "cell_type": "code",
   "execution_count": 9,
   "id": "53a0f4d9",
   "metadata": {},
   "outputs": [],
   "source": [
    "if []:\n",
    "    print(2)"
   ]
  },
  {
   "cell_type": "code",
   "execution_count": 11,
   "id": "d3e08386",
   "metadata": {},
   "outputs": [
    {
     "name": "stdout",
     "output_type": "stream",
     "text": [
      "2\n"
     ]
    }
   ],
   "source": [
    "if [2]:\n",
    "    print(2)"
   ]
  },
  {
   "cell_type": "code",
   "execution_count": 12,
   "id": "59df20eb",
   "metadata": {},
   "outputs": [
    {
     "name": "stdout",
     "output_type": "stream",
     "text": [
      "[1, 3, 5, 78, 21, 45]\n"
     ]
    }
   ],
   "source": [
    "import heapq\n",
    "\n",
    "H = [21,1,45,78,3,5]\n",
    "# Use heapify to rearrange the elements\n",
    "heapq.heapify(H)\n",
    "print(H)"
   ]
  },
  {
   "cell_type": "code",
   "execution_count": 13,
   "id": "ead0f598",
   "metadata": {},
   "outputs": [
    {
     "name": "stdout",
     "output_type": "stream",
     "text": [
      "[1, 3, 5, 78, 21, 45, 8]\n"
     ]
    }
   ],
   "source": [
    "heapq.heappush(H,8)\n",
    "print(H)"
   ]
  },
  {
   "cell_type": "code",
   "execution_count": 14,
   "id": "96f82e48",
   "metadata": {},
   "outputs": [
    {
     "data": {
      "text/plain": [
       "True"
      ]
     },
     "execution_count": 14,
     "metadata": {},
     "output_type": "execute_result"
    }
   ],
   "source": [
    "bool(H)"
   ]
  },
  {
   "cell_type": "code",
   "execution_count": 15,
   "id": "5d0f4c00",
   "metadata": {},
   "outputs": [
    {
     "data": {
      "text/plain": [
       "1"
      ]
     },
     "execution_count": 15,
     "metadata": {},
     "output_type": "execute_result"
    }
   ],
   "source": [
    "heapq.heappop(H)"
   ]
  },
  {
   "cell_type": "code",
   "execution_count": 16,
   "id": "2f161e49",
   "metadata": {},
   "outputs": [
    {
     "data": {
      "text/plain": [
       "3"
      ]
     },
     "execution_count": 16,
     "metadata": {},
     "output_type": "execute_result"
    }
   ],
   "source": [
    "heapq.heappop(H)"
   ]
  },
  {
   "cell_type": "code",
   "execution_count": 17,
   "id": "b2771b63",
   "metadata": {},
   "outputs": [
    {
     "data": {
      "text/plain": [
       "5"
      ]
     },
     "execution_count": 17,
     "metadata": {},
     "output_type": "execute_result"
    }
   ],
   "source": [
    "heapq.heappop(H)"
   ]
  },
  {
   "cell_type": "code",
   "execution_count": 18,
   "id": "3cd1cf8c",
   "metadata": {},
   "outputs": [
    {
     "data": {
      "text/plain": [
       "8"
      ]
     },
     "execution_count": 18,
     "metadata": {},
     "output_type": "execute_result"
    }
   ],
   "source": [
    "heapq.heappop(H)"
   ]
  },
  {
   "cell_type": "code",
   "execution_count": 19,
   "id": "e9b6e013",
   "metadata": {},
   "outputs": [
    {
     "data": {
      "text/plain": [
       "21"
      ]
     },
     "execution_count": 19,
     "metadata": {},
     "output_type": "execute_result"
    }
   ],
   "source": [
    "heapq.heappop(H)"
   ]
  },
  {
   "cell_type": "code",
   "execution_count": 20,
   "id": "0cf6d5e1",
   "metadata": {},
   "outputs": [
    {
     "data": {
      "text/plain": [
       "45"
      ]
     },
     "execution_count": 20,
     "metadata": {},
     "output_type": "execute_result"
    }
   ],
   "source": [
    "heapq.heappop(H)"
   ]
  },
  {
   "cell_type": "code",
   "execution_count": 21,
   "id": "2d2128ef",
   "metadata": {},
   "outputs": [
    {
     "data": {
      "text/plain": [
       "78"
      ]
     },
     "execution_count": 21,
     "metadata": {},
     "output_type": "execute_result"
    }
   ],
   "source": [
    "heapq.heappop(H)"
   ]
  },
  {
   "cell_type": "code",
   "execution_count": 22,
   "id": "a9923fa9",
   "metadata": {},
   "outputs": [
    {
     "name": "stdout",
     "output_type": "stream",
     "text": [
      "[]\n"
     ]
    }
   ],
   "source": [
    "print(H)"
   ]
  },
  {
   "cell_type": "code",
   "execution_count": 23,
   "id": "d2878cbc",
   "metadata": {},
   "outputs": [
    {
     "data": {
      "text/plain": [
       "False"
      ]
     },
     "execution_count": 23,
     "metadata": {},
     "output_type": "execute_result"
    }
   ],
   "source": [
    "bool(H)"
   ]
  },
  {
   "cell_type": "code",
   "execution_count": 28,
   "id": "c6d63b83",
   "metadata": {},
   "outputs": [],
   "source": [
    "## np.full((9,9), np.inf)"
   ]
  },
  {
   "cell_type": "code",
   "execution_count": 26,
   "id": "b43abd82",
   "metadata": {},
   "outputs": [],
   "source": [
    "## meant to be used in the various A* derivatives\n",
    "class Node:\n",
    "    def __init__(self, row, col, fromStart, endRow = 0, endCol = 0, parent = None):\n",
    "        self.row = row\n",
    "        self.col = col\n",
    "        self.fromStart = fromStart                      ## aka gScore\n",
    "        self.toEnd = abs(endRow-row)+abs(endCol-col)    ## aka hScore\n",
    "        self.parent = parent                            ## aka fScore\n",
    "\n",
    "    ## so I can use heaps to pick the lowest fCost for the performance\n",
    "    def __lt__(self, node):\n",
    "        return self.fromStart + self.toEnd < node.fromStart + node.toEnd\n"
   ]
  },
  {
   "cell_type": "code",
   "execution_count": 27,
   "id": "3525dd9d",
   "metadata": {},
   "outputs": [
    {
     "data": {
      "text/plain": [
       "array([[<class '__main__.Node'>, <class '__main__.Node'>,\n",
       "        <class '__main__.Node'>],\n",
       "       [<class '__main__.Node'>, <class '__main__.Node'>,\n",
       "        <class '__main__.Node'>],\n",
       "       [<class '__main__.Node'>, <class '__main__.Node'>,\n",
       "        <class '__main__.Node'>]], dtype=object)"
      ]
     },
     "execution_count": 27,
     "metadata": {},
     "output_type": "execute_result"
    }
   ],
   "source": [
    "np.full((3,3), Node)"
   ]
  },
  {
   "cell_type": "code",
   "execution_count": 29,
   "id": "c6e2a873",
   "metadata": {},
   "outputs": [],
   "source": [
    "import random"
   ]
  },
  {
   "cell_type": "code",
   "execution_count": 31,
   "id": "6a1845c2",
   "metadata": {},
   "outputs": [
    {
     "data": {
      "text/plain": [
       "139"
      ]
     },
     "execution_count": 31,
     "metadata": {},
     "output_type": "execute_result"
    }
   ],
   "source": [
    "random.getrandbits(10)"
   ]
  },
  {
   "cell_type": "code",
   "execution_count": 32,
   "id": "bfe4de02",
   "metadata": {},
   "outputs": [
    {
     "data": {
      "text/plain": [
       "0"
      ]
     },
     "execution_count": 32,
     "metadata": {},
     "output_type": "execute_result"
    }
   ],
   "source": [
    "random.getrandbits(1)"
   ]
  },
  {
   "cell_type": "code",
   "execution_count": 1,
   "id": "88d28529",
   "metadata": {},
   "outputs": [
    {
     "ename": "NameError",
     "evalue": "name 'np' is not defined",
     "output_type": "error",
     "traceback": [
      "\u001b[0;31m---------------------------------------------------------------------------\u001b[0m",
      "\u001b[0;31mNameError\u001b[0m                                 Traceback (most recent call last)",
      "Input \u001b[0;32mIn [1]\u001b[0m, in \u001b[0;36m<cell line: 1>\u001b[0;34m()\u001b[0m\n\u001b[0;32m----> 1\u001b[0m \u001b[43mnp\u001b[49m\u001b[38;5;241m.\u001b[39minf\n",
      "\u001b[0;31mNameError\u001b[0m: name 'np' is not defined"
     ]
    }
   ],
   "source": [
    "np.inf"
   ]
  },
  {
   "cell_type": "code",
   "execution_count": 2,
   "id": "d3de6337",
   "metadata": {},
   "outputs": [],
   "source": [
    "import numpy as np"
   ]
  },
  {
   "cell_type": "code",
   "execution_count": 4,
   "id": "7adfd29b",
   "metadata": {},
   "outputs": [
    {
     "data": {
      "text/plain": [
       "True"
      ]
     },
     "execution_count": 4,
     "metadata": {},
     "output_type": "execute_result"
    }
   ],
   "source": [
    "np.inf > 100"
   ]
  },
  {
   "cell_type": "code",
   "execution_count": 5,
   "id": "e58040fd",
   "metadata": {},
   "outputs": [
    {
     "data": {
      "text/plain": [
       "-inf"
      ]
     },
     "execution_count": 5,
     "metadata": {},
     "output_type": "execute_result"
    }
   ],
   "source": [
    "-np.inf"
   ]
  },
  {
   "cell_type": "code",
   "execution_count": null,
   "id": "969708d6",
   "metadata": {},
   "outputs": [],
   "source": []
  }
 ],
 "metadata": {
  "kernelspec": {
   "display_name": "Python 3 (ipykernel)",
   "language": "python",
   "name": "python3"
  },
  "language_info": {
   "codemirror_mode": {
    "name": "ipython",
    "version": 3
   },
   "file_extension": ".py",
   "mimetype": "text/x-python",
   "name": "python",
   "nbconvert_exporter": "python",
   "pygments_lexer": "ipython3",
   "version": "3.9.12"
  }
 },
 "nbformat": 4,
 "nbformat_minor": 5
}
